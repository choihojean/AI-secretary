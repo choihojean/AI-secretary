{
 "cells": [
  {
   "cell_type": "code",
   "execution_count": null,
   "metadata": {},
   "outputs": [],
   "source": [
    "# pip install gradio speechrecognition gtts os dotenv openai\n",
    "\n",
    "import gradio as gr\n",
    "import speech_recognition as sr\n",
    "from gtts import gTTS\n",
    "import os\n",
    "from dotenv import load_dotenv\n",
    "from openai import OpenAI\n",
    "import tempfile\n",
    "import urllib"
   ]
  },
  {
   "cell_type": "code",
   "execution_count": null,
   "metadata": {},
   "outputs": [],
   "source": [
    "# 환경 변수 로드\n",
    "load_dotenv()\n",
    "client = OpenAI()\n",
    "api_key = os.getenv(\"OPENAI_API_KEY\")"
   ]
  },
  {
   "cell_type": "code",
   "execution_count": null,
   "metadata": {},
   "outputs": [],
   "source": [
    "history = []\n",
    "# OpenAI API로부터 응답 받는 함수\n",
    "def get_response_from_openai(text):\n",
    "    global history\n",
    "    history.append({\"role\": \"user\", \"content\": text})\n",
    "    \n",
    "    response = client.chat.completions.create(\n",
    "        model=\"gpt-3.5-turbo\",\n",
    "        messages=history,\n",
    "    )\n",
    "    history.append({\"role\":\"assistant\",\"content\":response.choices[0].message.content})\n",
    "    return response.choices[0].message.content, history"
   ]
  },
  {
   "cell_type": "code",
   "execution_count": null,
   "metadata": {},
   "outputs": [],
   "source": [
    "# DALL-E API를 호출하여 이미지를 생성하는 함수\n",
    "def get_image_from_dalle(prompt):\n",
    "    response = client.images.generate(\n",
    "        model=\"dall-e-3\",\n",
    "        prompt=prompt, size=\"1024x1024\", quality = \"standard\", n=1\n",
    "    )\n",
    "    \n",
    "    image_url = response.data[0].url\n",
    "    urllib.request.urlretrieve(image_url, \"generated_image.jpg\")\n",
    "    return \"generated_image.jpg\""
   ]
  },
  {
   "cell_type": "code",
   "execution_count": null,
   "metadata": {},
   "outputs": [],
   "source": [
    "# 음성 인식 및 음성 응답 생성\n",
    "def process_voice(file, reset_history=False, generate_image=False):\n",
    "    if reset_history:\n",
    "        global history\n",
    "        history=[]\n",
    "\n",
    "    r = sr.Recognizer()\n",
    "    with sr.AudioFile(file) as source:\n",
    "        audio = r.record(source)\n",
    "    \n",
    "    try:\n",
    "        # 음성 인식\n",
    "        text = r.recognize_google(audio, language='ko-KR')\n",
    "        # OpenAI API로 응답 받기\n",
    "        response, history_display = get_response_from_openai(text)\n",
    "        # 응답을 음성으로 변환\n",
    "        tts = gTTS(text=response, lang='ko')\n",
    "        \n",
    "        # 음성을 임시 파일로 저장\n",
    "        temp_file = tempfile.NamedTemporaryFile(delete=False, suffix='.mp3')\n",
    "        tts.save(temp_file.name)\n",
    "        temp_file.close()  # 파일 사용이 끝난 후 파일을 닫아야 함\n",
    "\n",
    "        # 이미지 생성 옵션이 선택된 경우\n",
    "        image_path = None\n",
    "        if generate_image:\n",
    "            image_path = get_image_from_dalle(text)\n",
    "        \n",
    "        return temp_file.name, history_display, image_path\n",
    "    except sr.UnknownValueError:\n",
    "        return \"목소리를 인식하지 못했습니다.\", history, None\n",
    "    except sr.RequestError as e:\n",
    "        return f\"Speech Recognition으로부터 결과를 받을 수 없습니다. {e}\", history, None"
   ]
  },
  {
   "cell_type": "code",
   "execution_count": null,
   "metadata": {},
   "outputs": [],
   "source": [
    "# Gradio 인터페이스 설정\n",
    "demo = gr.Interface(\n",
    "    fn=process_voice,\n",
    "    inputs=[\n",
    "        gr.Audio(type=\"filepath\", label=\"질문\"),\n",
    "        gr.Checkbox(label=\"대화 내역 지우기\"),\n",
    "        gr.Checkbox(label=\"이미지 생성\")\n",
    "    ],\n",
    "    outputs=[\n",
    "        gr.Audio(label=\"AI비서\"),\n",
    "        gr.JSON(label=\"대화 내역\"),\n",
    "        gr.Image(label=\"생성된 이미지\", type=\"filepath\")\n",
    "    ],\n",
    "    title=\"음성 AI비서\",\n",
    "    description=\"음성으로 AI와 대화를 나누어보세요. 이미지를 생성하려면 옵션을 선택하세요.\"\n",
    ")\n",
    "\n",
    "# 인터페이스 실행\n",
    "demo.launch()"
   ]
  }
 ],
 "metadata": {
  "language_info": {
   "name": "python"
  }
 },
 "nbformat": 4,
 "nbformat_minor": 2
}
